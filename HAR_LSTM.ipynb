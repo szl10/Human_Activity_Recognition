{
  "cells": [
    {
      "cell_type": "markdown",
      "metadata": {
        "id": "view-in-github",
        "colab_type": "text"
      },
      "source": [
        "<a href=\"https://colab.research.google.com/github/szl10/Human_Activity_Recognition/blob/main/HAR_LSTM.ipynb\" target=\"_parent\"><img src=\"https://colab.research.google.com/assets/colab-badge.svg\" alt=\"Open In Colab\"/></a>"
      ]
    },
    {
      "cell_type": "code",
      "execution_count": 551,
      "metadata": {
        "id": "MTvcQ8yt6kJZ"
      },
      "outputs": [],
      "source": [
        "import pandas as pd\n",
        "import numpy as np\n",
        "import os"
      ]
    },
    {
      "cell_type": "code",
      "execution_count": 552,
      "metadata": {
        "id": "Mu_vfdD-7d-U"
      },
      "outputs": [],
      "source": [
        "#Activities are the class label\n",
        "Activities={\n",
        "    0: 'WALKING',\n",
        "    1: 'WALKING_UPSTAIRS',\n",
        "    2: 'WALKING_DOWNSTAIRS',\n",
        "    3: 'SITTING',\n",
        "    4: 'STANDING',\n",
        "    5: 'LAYING'\n",
        "}"
      ]
    },
    {
      "cell_type": "code",
      "execution_count": 553,
      "metadata": {
        "id": "IxQmXpHy7_NT"
      },
      "outputs": [],
      "source": [
        "# Utility function to print confusiion matrix\n",
        "def confusion_matrix(Y_true,Y_pred):\n",
        "  Y_true=pd.Series([Activities[y] for y in np.argmax(Y_true,axis=1)])\n",
        "  Y_pred=pd.Series([Activities[y] for y in np.argmax(Y_pred,axis=1)])\n",
        "\n",
        "  return pd.crosstab(Y_true, Y_pred, rownames=['True'], colnames=['Pred'])"
      ]
    },
    {
      "cell_type": "markdown",
      "metadata": {
        "id": "pYlqb7FOLs64"
      },
      "source": [
        "# DATA"
      ]
    },
    {
      "cell_type": "code",
      "execution_count": 554,
      "metadata": {
        "id": "xR-OxuPVLt7t"
      },
      "outputs": [],
      "source": [
        "#Data Directory\n",
        "DATADIR=f'{os.getcwd()}/UCI_HAR_Dataset'"
      ]
    },
    {
      "cell_type": "code",
      "execution_count": 555,
      "metadata": {
        "id": "qPVs3jBXMeAA"
      },
      "outputs": [],
      "source": [
        "# Raw data signals\n",
        "# Signals are from Accelerometer and Gyroscope\n",
        "# The signals are in x,y,z directions\n",
        "# Sensor signals are filtered to have only body acceleration\n",
        "# excluding the acceleration due to gravity\n",
        "# Triaxial acceleration from the accelerometer is total acceleration\n",
        "\n",
        "SIGNALS = [\n",
        "    'body_acc_x',\n",
        "    'body_acc_y',\n",
        "    'body_acc_z',\n",
        "    \"body_gyro_x\",\n",
        "    \"body_gyro_y\",\n",
        "    \"body_gyro_z\",\n",
        "    \"total_acc_x\",\n",
        "    \"total_acc_y\",\n",
        "    \"total_acc_z\"\n",
        "]"
      ]
    },
    {
      "cell_type": "markdown",
      "metadata": {
        "id": "qebRmZwPM5FO"
      },
      "source": [
        "# Function to read data from csv files"
      ]
    },
    {
      "cell_type": "code",
      "execution_count": 556,
      "metadata": {
        "id": "SMalrMjCM2m6"
      },
      "outputs": [],
      "source": [
        "# Utility function to read the data from csv file\n",
        "def _read_csv(filename):\n",
        "  return pd.read_csv(filename,delim_whitespace=True,header=None)\n",
        "\n",
        "# Utility function to load the load\n",
        "def load_signals(subset):\n",
        "  signals_data = []\n",
        "\n",
        "  for signal in SIGNALS:\n",
        "    # filename= f'{DATADIR}/{subset}/Inertial_Signals/{signal}_{subset}.txt'\n",
        "    # /content/UCI_HAR_Dataset/test/Intertial_Signals/body_acc_x_test.txt\n",
        "    filename = '/content/UCI_HAR_Dataset/' + subset + '/Inertial_Signals/' + signal + '_' + subset + '.txt'\n",
        "    signals_data.append(\n",
        "        _read_csv(filename).to_numpy()\n",
        "      )\n",
        "\n",
        "\n",
        "    # Transpose is used to change the dimensionality of the output,\n",
        "    # aggregating the signals by combination of sample/timestep.\n",
        "    # Resultant shape is (7352 train/2947 test samples, 128 timesteps, 9 signals)\n",
        "  return np.transpose(signals_data, (1, 2, 0))\n"
      ]
    },
    {
      "cell_type": "code",
      "execution_count": 557,
      "metadata": {
        "id": "w008EMc6Oohy"
      },
      "outputs": [],
      "source": [
        "def load_y(subset):\n",
        "    filename = '/content/UCI_HAR_Dataset/' + subset + '/y_' + subset + '.txt'\n",
        "    y = _read_csv(filename)[0]\n",
        "    return pd.get_dummies(y).to_numpy()\n"
      ]
    },
    {
      "cell_type": "code",
      "execution_count": 558,
      "metadata": {
        "id": "cEWKHa5ePifR"
      },
      "outputs": [],
      "source": [
        "def load_data():\n",
        "  X_train,X_test = load_signals('train'),load_signals('test')\n",
        "  Y_train,Y_test = load_y('train'),load_y('test')\n",
        "\n",
        "  return X_train,X_test,Y_train,Y_test"
      ]
    },
    {
      "cell_type": "code",
      "execution_count": 559,
      "metadata": {
        "id": "bZbH9UADQQZM"
      },
      "outputs": [],
      "source": [
        "np.random.seed(42)\n",
        "import tensorflow as tf\n",
        "tf.random.set_seed(42)"
      ]
    },
    {
      "cell_type": "code",
      "execution_count": 560,
      "metadata": {
        "id": "2PtTInxdSRRR"
      },
      "outputs": [],
      "source": [
        "# Configuring a session\n",
        "session_conf = tf.compat.v1.ConfigProto(\n",
        "    intra_op_parallelism_threads=1,\n",
        "    inter_op_parallelism_threads=1\n",
        ")"
      ]
    },
    {
      "cell_type": "code",
      "execution_count": 561,
      "metadata": {
        "id": "C8CrOrJxSHa8"
      },
      "outputs": [],
      "source": [
        "sess = tf.compat.v1.Session(graph=tf.compat.v1.get_default_graph(), config=session_conf)\n",
        "tf.compat.v1.keras.backend.set_session(sess)"
      ]
    },
    {
      "cell_type": "code",
      "execution_count": 562,
      "metadata": {
        "id": "YjJ-CzcxTKpQ"
      },
      "outputs": [],
      "source": [
        "from keras.models import Sequential\n",
        "from keras.layers import LSTM, Dense, Dropout\n",
        "\n"
      ]
    },
    {
      "cell_type": "code",
      "execution_count": 563,
      "metadata": {
        "id": "LpF_DTxaShOH"
      },
      "outputs": [],
      "source": [
        "#Initialising the Parameters\n",
        "epochs=30\n",
        "batch_size=16\n",
        "n_hidden=32"
      ]
    },
    {
      "cell_type": "code",
      "execution_count": 564,
      "metadata": {
        "id": "M8U26inCU46H"
      },
      "outputs": [],
      "source": [
        "#utility function to count the number of classes\n",
        "def _count_classes(y):\n",
        "  return len(set([tuple(category) for category in y]))"
      ]
    },
    {
      "cell_type": "code",
      "execution_count": 565,
      "metadata": {
        "id": "zaNDQNkWVTKC"
      },
      "outputs": [],
      "source": [
        "X_train,X_test,Y_train,Y_test=load_data()\n"
      ]
    },
    {
      "cell_type": "code",
      "source": [
        "print(X_train.shape)\n",
        "print(Y_train.shape)\n",
        "print(X_test.shape)\n",
        "print(Y_test.shape)"
      ],
      "metadata": {
        "colab": {
          "base_uri": "https://localhost:8080/"
        },
        "id": "lGgdGkPB5rIR",
        "outputId": "55cb5107-70ee-41df-dce8-7b41787414f1"
      },
      "execution_count": 566,
      "outputs": [
        {
          "output_type": "stream",
          "name": "stdout",
          "text": [
            "(7352, 128, 9)\n",
            "(7352, 6)\n",
            "(2947, 128, 9)\n",
            "(2947, 6)\n"
          ]
        }
      ]
    },
    {
      "cell_type": "code",
      "execution_count": 567,
      "metadata": {
        "id": "UfWA0SxmVcL6"
      },
      "outputs": [],
      "source": [
        "timesteps = len(X_train[0])\n",
        "input_dim = len(X_train[0][0])\n",
        "n_classes = _count_classes(Y_train)"
      ]
    },
    {
      "cell_type": "code",
      "source": [
        "print(timesteps)\n",
        "print(input_dim)\n",
        "print(len(X_train))"
      ],
      "metadata": {
        "colab": {
          "base_uri": "https://localhost:8080/"
        },
        "id": "TjQw4vQR42mk",
        "outputId": "3f338108-8897-48f4-c28a-ffe436b97f75"
      },
      "execution_count": 568,
      "outputs": [
        {
          "output_type": "stream",
          "name": "stdout",
          "text": [
            "128\n",
            "9\n",
            "7352\n"
          ]
        }
      ]
    },
    {
      "cell_type": "code",
      "source": [
        "# Initiliazing the sequential model\n",
        "model = Sequential()\n",
        "# Configuring the parameters\n",
        "model.add(LSTM(n_hidden, input_shape=(timesteps, input_dim)))\n",
        "# Adding a dropout layer\n",
        "model.add(Dropout(0.5))\n",
        "# Adding a dense output layer with sigmoid activation\n",
        "model.add(Dense(n_classes, activation='sigmoid'))\n",
        "model.summary()"
      ],
      "metadata": {
        "colab": {
          "base_uri": "https://localhost:8080/"
        },
        "id": "CH6Flvue5Pty",
        "outputId": "16f68003-2351-47fe-972b-28f3a378a4c5"
      },
      "execution_count": 569,
      "outputs": [
        {
          "output_type": "stream",
          "name": "stdout",
          "text": [
            "Model: \"sequential_8\"\n",
            "_________________________________________________________________\n",
            " Layer (type)                Output Shape              Param #   \n",
            "=================================================================\n",
            " lstm_8 (LSTM)               (None, 32)                5376      \n",
            "                                                                 \n",
            " dropout_8 (Dropout)         (None, 32)                0         \n",
            "                                                                 \n",
            " dense_8 (Dense)             (None, 6)                 198       \n",
            "                                                                 \n",
            "=================================================================\n",
            "Total params: 5574 (21.77 KB)\n",
            "Trainable params: 5574 (21.77 KB)\n",
            "Non-trainable params: 0 (0.00 Byte)\n",
            "_________________________________________________________________\n"
          ]
        }
      ]
    },
    {
      "cell_type": "code",
      "source": [
        "# Compiling the model\n",
        "model.compile(loss='categorical_crossentropy',\n",
        "              optimizer='rmsprop',\n",
        "              metrics=['accuracy'])"
      ],
      "metadata": {
        "id": "-QkeSK9z7WEu"
      },
      "execution_count": 570,
      "outputs": []
    },
    {
      "cell_type": "code",
      "source": [
        "# Training the model\n",
        "model.fit(X_train,\n",
        "          Y_train,\n",
        "          batch_size=batch_size,\n",
        "          validation_data=(X_test, Y_test),\n",
        "          epochs=epochs)"
      ],
      "metadata": {
        "colab": {
          "base_uri": "https://localhost:8080/"
        },
        "id": "5of_NMUzAt9r",
        "outputId": "e98cc414-6e9b-4df2-a5e2-2c0085c0a718"
      },
      "execution_count": 547,
      "outputs": [
        {
          "output_type": "stream",
          "name": "stdout",
          "text": [
            "Epoch 1/30\n",
            "460/460 [==============================] - 37s 69ms/step - loss: 1.1073 - accuracy: 0.5305 - val_loss: 0.8451 - val_accuracy: 0.6267\n",
            "Epoch 2/30\n",
            "460/460 [==============================] - 26s 56ms/step - loss: 0.7704 - accuracy: 0.6487 - val_loss: 0.7589 - val_accuracy: 0.6647\n",
            "Epoch 3/30\n",
            "460/460 [==============================] - 25s 55ms/step - loss: 0.6848 - accuracy: 0.7014 - val_loss: 0.7616 - val_accuracy: 0.6939\n",
            "Epoch 4/30\n",
            "460/460 [==============================] - 26s 57ms/step - loss: 0.5842 - accuracy: 0.7625 - val_loss: 0.6771 - val_accuracy: 0.7357\n",
            "Epoch 5/30\n",
            "460/460 [==============================] - 26s 57ms/step - loss: 0.5123 - accuracy: 0.8215 - val_loss: 0.7353 - val_accuracy: 0.7615\n",
            "Epoch 6/30\n",
            "460/460 [==============================] - 25s 54ms/step - loss: 0.3897 - accuracy: 0.8768 - val_loss: 0.5460 - val_accuracy: 0.8388\n",
            "Epoch 7/30\n",
            "460/460 [==============================] - 25s 54ms/step - loss: 0.2988 - accuracy: 0.9094 - val_loss: 0.4432 - val_accuracy: 0.8616\n",
            "Epoch 8/30\n",
            "460/460 [==============================] - 24s 53ms/step - loss: 0.2594 - accuracy: 0.9181 - val_loss: 0.5589 - val_accuracy: 0.8351\n",
            "Epoch 9/30\n",
            "460/460 [==============================] - 23s 51ms/step - loss: 0.2619 - accuracy: 0.9222 - val_loss: 0.4018 - val_accuracy: 0.8748\n",
            "Epoch 10/30\n",
            "460/460 [==============================] - 24s 51ms/step - loss: 0.2315 - accuracy: 0.9291 - val_loss: 0.5446 - val_accuracy: 0.8683\n",
            "Epoch 11/30\n",
            "460/460 [==============================] - 24s 53ms/step - loss: 0.2062 - accuracy: 0.9329 - val_loss: 0.4764 - val_accuracy: 0.8629\n",
            "Epoch 12/30\n",
            "460/460 [==============================] - 24s 52ms/step - loss: 0.2040 - accuracy: 0.9334 - val_loss: 0.3010 - val_accuracy: 0.9006\n",
            "Epoch 13/30\n",
            "460/460 [==============================] - 24s 52ms/step - loss: 0.1795 - accuracy: 0.9388 - val_loss: 0.3690 - val_accuracy: 0.8907\n",
            "Epoch 14/30\n",
            "460/460 [==============================] - 24s 51ms/step - loss: 0.1910 - accuracy: 0.9415 - val_loss: 0.4210 - val_accuracy: 0.8924\n",
            "Epoch 15/30\n",
            "460/460 [==============================] - 23s 51ms/step - loss: 0.1964 - accuracy: 0.9380 - val_loss: 0.4750 - val_accuracy: 0.9019\n",
            "Epoch 16/30\n",
            "460/460 [==============================] - 24s 53ms/step - loss: 0.1716 - accuracy: 0.9411 - val_loss: 0.4664 - val_accuracy: 0.8809\n",
            "Epoch 17/30\n",
            "460/460 [==============================] - 25s 54ms/step - loss: 0.1569 - accuracy: 0.9445 - val_loss: 0.5241 - val_accuracy: 0.8867\n",
            "Epoch 18/30\n",
            "460/460 [==============================] - 24s 53ms/step - loss: 0.1642 - accuracy: 0.9429 - val_loss: 0.3675 - val_accuracy: 0.9104\n",
            "Epoch 19/30\n",
            "460/460 [==============================] - 24s 53ms/step - loss: 0.1626 - accuracy: 0.9423 - val_loss: 0.3411 - val_accuracy: 0.9141\n",
            "Epoch 20/30\n",
            "460/460 [==============================] - 24s 52ms/step - loss: 0.1629 - accuracy: 0.9455 - val_loss: 0.3488 - val_accuracy: 0.9094\n",
            "Epoch 21/30\n",
            "460/460 [==============================] - 25s 54ms/step - loss: 0.1456 - accuracy: 0.9482 - val_loss: 0.3542 - val_accuracy: 0.9040\n",
            "Epoch 22/30\n",
            "460/460 [==============================] - 24s 53ms/step - loss: 0.1671 - accuracy: 0.9427 - val_loss: 0.3851 - val_accuracy: 0.9097\n",
            "Epoch 23/30\n",
            "460/460 [==============================] - 25s 54ms/step - loss: 0.1462 - accuracy: 0.9421 - val_loss: 0.3279 - val_accuracy: 0.9240\n",
            "Epoch 24/30\n",
            "460/460 [==============================] - 25s 55ms/step - loss: 0.1387 - accuracy: 0.9468 - val_loss: 0.3831 - val_accuracy: 0.9118\n",
            "Epoch 25/30\n",
            "460/460 [==============================] - 26s 55ms/step - loss: 0.1323 - accuracy: 0.9524 - val_loss: 0.3446 - val_accuracy: 0.9152\n",
            "Epoch 26/30\n",
            "460/460 [==============================] - 25s 55ms/step - loss: 0.1438 - accuracy: 0.9461 - val_loss: 0.4015 - val_accuracy: 0.9141\n",
            "Epoch 27/30\n",
            "460/460 [==============================] - 25s 54ms/step - loss: 0.1442 - accuracy: 0.9484 - val_loss: 0.4652 - val_accuracy: 0.9074\n",
            "Epoch 28/30\n",
            "460/460 [==============================] - 25s 54ms/step - loss: 0.1421 - accuracy: 0.9497 - val_loss: 0.4854 - val_accuracy: 0.9036\n",
            "Epoch 29/30\n",
            "460/460 [==============================] - 24s 52ms/step - loss: 0.1483 - accuracy: 0.9456 - val_loss: 0.4324 - val_accuracy: 0.9060\n",
            "Epoch 30/30\n",
            "460/460 [==============================] - 25s 54ms/step - loss: 0.1475 - accuracy: 0.9464 - val_loss: 0.4753 - val_accuracy: 0.9070\n"
          ]
        },
        {
          "output_type": "execute_result",
          "data": {
            "text/plain": [
              "<keras.src.callbacks.History at 0x7eb8d45fd510>"
            ]
          },
          "metadata": {},
          "execution_count": 547
        }
      ]
    },
    {
      "cell_type": "code",
      "source": [
        "# Confusion Matrix\n",
        "print(confusion_matrix(Y_test, model.predict(X_test)))"
      ],
      "metadata": {
        "colab": {
          "base_uri": "https://localhost:8080/"
        },
        "id": "B8LTka39HBDq",
        "outputId": "d071b090-4f91-4a6a-db28-c50e255744f8"
      },
      "execution_count": 548,
      "outputs": [
        {
          "output_type": "stream",
          "name": "stdout",
          "text": [
            "93/93 [==============================] - 2s 17ms/step\n",
            "Pred                LAYING  SITTING  STANDING  WALKING  WALKING_DOWNSTAIRS  \\\n",
            "True                                                                         \n",
            "LAYING                 509        0        27        0                   1   \n",
            "SITTING                  0      404        84        0                   1   \n",
            "STANDING                 0       89       442        0                   0   \n",
            "WALKING                  0        0         0      455                  10   \n",
            "WALKING_DOWNSTAIRS       0        1         0        0                 406   \n",
            "WALKING_UPSTAIRS         0       12         0        2                   0   \n",
            "\n",
            "Pred                WALKING_UPSTAIRS  \n",
            "True                                  \n",
            "LAYING                             0  \n",
            "SITTING                            2  \n",
            "STANDING                           1  \n",
            "WALKING                           31  \n",
            "WALKING_DOWNSTAIRS                13  \n",
            "WALKING_UPSTAIRS                 457  \n"
          ]
        }
      ]
    },
    {
      "cell_type": "code",
      "source": [
        "score = model.evaluate(X_test, Y_test)"
      ],
      "metadata": {
        "colab": {
          "base_uri": "https://localhost:8080/"
        },
        "id": "cinGhCeoJ6b4",
        "outputId": "a293b343-0e45-4ae2-c22f-41643d88b136"
      },
      "execution_count": 549,
      "outputs": [
        {
          "output_type": "stream",
          "name": "stdout",
          "text": [
            "93/93 [==============================] - 1s 13ms/step - loss: 0.4753 - accuracy: 0.9070\n"
          ]
        }
      ]
    },
    {
      "cell_type": "code",
      "source": [
        "score"
      ],
      "metadata": {
        "colab": {
          "base_uri": "https://localhost:8080/"
        },
        "id": "bbPLChNSPcSg",
        "outputId": "237e9a2a-779e-4db5-8e86-c9de6c3d9a0c"
      },
      "execution_count": 550,
      "outputs": [
        {
          "data": {
            "text/plain": [
              "[0.47528010606765747, 0.907024085521698]"
            ]
          },
          "execution_count": 550,
          "metadata": {},
          "output_type": "execute_result"
        }
      ]
    },
    {
      "cell_type": "code",
      "source": [],
      "metadata": {
        "id": "I9TaY_1-PeXg"
      },
      "execution_count": 550,
      "outputs": []
    }
  ],
  "metadata": {
    "colab": {
      "provenance": [],
      "authorship_tag": "ABX9TyNcvTj5eU8xv8GQTPHNsWf9",
      "include_colab_link": true
    },
    "kernelspec": {
      "display_name": "Python 3",
      "name": "python3"
    },
    "language_info": {
      "name": "python"
    }
  },
  "nbformat": 4,
  "nbformat_minor": 0
}